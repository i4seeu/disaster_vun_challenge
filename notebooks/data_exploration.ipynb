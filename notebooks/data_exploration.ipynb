{
 "cells": [
  {
   "cell_type": "markdown",
   "metadata": {},
   "source": [
    "##"
   ]
  },
  {
   "cell_type": "markdown",
   "metadata": {},
   "source": [
    "### This is python notebook to explore the pages using opensource frame works"
   ]
  },
  {
   "cell_type": "markdown",
   "metadata": {},
   "source": []
  },
  {
   "cell_type": "code",
   "execution_count": 2,
   "metadata": {},
   "outputs": [],
   "source": [
    "# Importing all the necessary libraries\n",
    "# Import Fastai libraries\n",
    "from fastai.vision.all import *\n",
    "\n",
    "# Import PyTorch\n",
    "import torch\n",
    "\n",
    "# Import other necessary libraries\n",
    "import numpy as np\n",
    "import pandas as pd\n",
    "import matplotlib.pyplot as plt\n",
    "import random\n",
    "#import albumentations as A  # Add this import statement"
   ]
  },
  {
   "cell_type": "code",
   "execution_count": 3,
   "metadata": {},
   "outputs": [],
   "source": [
    "#lets set the reproducibility of the code\n",
    "\n",
    "def set_seed(seed):\n",
    "    random.seed(seed)\n",
    "    torch.manual_seed(seed)\n",
    "    if torch.cuda.is_available():\n",
    "        torch.cuda.manual_seed_all(seed)\n",
    "\n",
    "# Set seed for reproducibility\n",
    "seed = 42\n",
    "set_seed(seed)\n"
   ]
  },
  {
   "cell_type": "code",
   "execution_count": 4,
   "metadata": {},
   "outputs": [],
   "source": [
    "# Step 1: Read and parse train.csv\n",
    "train_df = pd.read_csv('../data/Train.csv')"
   ]
  },
  {
   "cell_type": "code",
   "execution_count": 5,
   "metadata": {},
   "outputs": [
    {
     "name": "stdout",
     "output_type": "stream",
     "text": [
      "<class 'pandas.core.frame.DataFrame'>\n",
      "RangeIndex: 26156 entries, 0 to 26155\n",
      "Data columns (total 4 columns):\n",
      " #   Column       Non-Null Count  Dtype  \n",
      "---  ------       --------------  -----  \n",
      " 0   image_id     26156 non-null  object \n",
      " 1   bbox         23849 non-null  object \n",
      " 2   category_id  23849 non-null  float64\n",
      " 3   id           23849 non-null  float64\n",
      "dtypes: float64(2), object(2)\n",
      "memory usage: 817.5+ KB\n"
     ]
    }
   ],
   "source": [
    "## lets explore the train dataframe\n",
    "train_df.info()"
   ]
  },
  {
   "cell_type": "code",
   "execution_count": 6,
   "metadata": {},
   "outputs": [],
   "source": [
    "## lets drop all null rows particullary on category and bbox because its what we will use to train our model\n",
    "# Remove rows with null values in 'bbox' or 'category_id'\n",
    "train_df = train_df.dropna(subset=['bbox', 'category_id'])"
   ]
  },
  {
   "cell_type": "code",
   "execution_count": 7,
   "metadata": {},
   "outputs": [
    {
     "name": "stdout",
     "output_type": "stream",
     "text": [
      "<class 'pandas.core.frame.DataFrame'>\n",
      "Int64Index: 23849 entries, 0 to 26155\n",
      "Data columns (total 4 columns):\n",
      " #   Column       Non-Null Count  Dtype  \n",
      "---  ------       --------------  -----  \n",
      " 0   image_id     23849 non-null  object \n",
      " 1   bbox         23849 non-null  object \n",
      " 2   category_id  23849 non-null  float64\n",
      " 3   id           23849 non-null  float64\n",
      "dtypes: float64(2), object(2)\n",
      "memory usage: 931.6+ KB\n"
     ]
    }
   ],
   "source": [
    "## lets see the output of the data that we will be dealing with\n",
    "\n",
    "train_df.info()"
   ]
  },
  {
   "cell_type": "code",
   "execution_count": 8,
   "metadata": {},
   "outputs": [],
   "source": [
    "# Step 2: Preprocess the data\n",
    "def parse_bbox(bbox_str):\n",
    "    # Assuming bbox_str is in the format '[x, y, width, height]'\n",
    "    bbox_str = str(bbox_str)\n",
    "    bbox = eval(bbox_str)\n",
    "    return tuple(map(float, bbox))\n",
    "\n",
    "train_df['bbox'] = train_df['bbox'].apply(parse_bbox)"
   ]
  },
  {
   "cell_type": "code",
   "execution_count": 9,
   "metadata": {},
   "outputs": [
    {
     "data": {
      "text/html": [
       "<div>\n",
       "<style scoped>\n",
       "    .dataframe tbody tr th:only-of-type {\n",
       "        vertical-align: middle;\n",
       "    }\n",
       "\n",
       "    .dataframe tbody tr th {\n",
       "        vertical-align: top;\n",
       "    }\n",
       "\n",
       "    .dataframe thead th {\n",
       "        text-align: right;\n",
       "    }\n",
       "</style>\n",
       "<table border=\"1\" class=\"dataframe\">\n",
       "  <thead>\n",
       "    <tr style=\"text-align: right;\">\n",
       "      <th></th>\n",
       "      <th>image_id</th>\n",
       "      <th>bbox</th>\n",
       "      <th>category_id</th>\n",
       "      <th>id</th>\n",
       "    </tr>\n",
       "  </thead>\n",
       "  <tbody>\n",
       "    <tr>\n",
       "      <th>0</th>\n",
       "      <td>id_w55q2qr62fsk</td>\n",
       "      <td>(122.0, 1.0, 42.0, 30.0)</td>\n",
       "      <td>2.0</td>\n",
       "      <td>6356.0</td>\n",
       "    </tr>\n",
       "    <tr>\n",
       "      <th>1</th>\n",
       "      <td>id_fvldv7o1kn9d</td>\n",
       "      <td>(500.0, 141.0, 74.0, 70.0)</td>\n",
       "      <td>2.0</td>\n",
       "      <td>2305.0</td>\n",
       "    </tr>\n",
       "    <tr>\n",
       "      <th>2</th>\n",
       "      <td>id_5d1r9l1jp7b5</td>\n",
       "      <td>(304.0, 525.0, 54.0, 58.0)</td>\n",
       "      <td>2.0</td>\n",
       "      <td>238.0</td>\n",
       "    </tr>\n",
       "    <tr>\n",
       "      <th>3</th>\n",
       "      <td>id_45qru79t6s4n</td>\n",
       "      <td>(187.0, 298.0, 44.0, 56.0)</td>\n",
       "      <td>2.0</td>\n",
       "      <td>921.0</td>\n",
       "    </tr>\n",
       "    <tr>\n",
       "      <th>4</th>\n",
       "      <td>id_84cjf2pbqmtv</td>\n",
       "      <td>(349.0, 721.0, 58.0, 59.0)</td>\n",
       "      <td>2.0</td>\n",
       "      <td>1362.0</td>\n",
       "    </tr>\n",
       "  </tbody>\n",
       "</table>\n",
       "</div>"
      ],
      "text/plain": [
       "          image_id                        bbox  category_id      id\n",
       "0  id_w55q2qr62fsk    (122.0, 1.0, 42.0, 30.0)          2.0  6356.0\n",
       "1  id_fvldv7o1kn9d  (500.0, 141.0, 74.0, 70.0)          2.0  2305.0\n",
       "2  id_5d1r9l1jp7b5  (304.0, 525.0, 54.0, 58.0)          2.0   238.0\n",
       "3  id_45qru79t6s4n  (187.0, 298.0, 44.0, 56.0)          2.0   921.0\n",
       "4  id_84cjf2pbqmtv  (349.0, 721.0, 58.0, 59.0)          2.0  1362.0"
      ]
     },
     "execution_count": 9,
     "metadata": {},
     "output_type": "execute_result"
    }
   ],
   "source": [
    "## lets see after preprocessing\n",
    "train_df.head()"
   ]
  },
  {
   "cell_type": "code",
   "execution_count": 10,
   "metadata": {},
   "outputs": [],
   "source": [
    "class ObjectDetectionDataLoader:\n",
    "    def __init__(self, df, path, image_col, bbox_col, label_col):\n",
    "        self.df = df\n",
    "        self.path = path\n",
    "        self.image_col = image_col\n",
    "        self.bbox_col = bbox_col\n",
    "        self.label_col = label_col\n",
    "\n",
    "    def __len__(self):\n",
    "        return len(self.df)\n",
    "\n",
    "    def __getitem__(self, idx):\n",
    "        image_id = self.df.iloc[idx]['image_id']\n",
    "        image_path = self.path / f\"{image_id}.tif\"\n",
    "        image = PILImage.create(image_path)\n",
    "        bbox = eval(self.df.iloc[idx][self.bbox_col])  # Assuming bbox is a string representation of a list\n",
    "        label = self.df.iloc[idx][self.label_col]\n",
    "        return image, (bbox, label)"
   ]
  },
  {
   "cell_type": "code",
   "execution_count": 11,
   "metadata": {},
   "outputs": [],
   "source": [
    "image_path = Path('../data/train/Images')\n",
    "\n",
    "# Define column names for images, bounding boxes, and labels\n",
    "image_col = 'image_id'\n",
    "bbox_col = 'bbox'\n",
    "label_col = 'category_id'\n",
    "\n",
    "# Create dataset object\n",
    "dataset = ObjectDetectionDataLoader(train_df, image_path, image_col, bbox_col, label_col)\n",
    "\n",
    "# Create DataLoader\n",
    "dataloader = DataLoader(dataset, batch_size=8, shuffle=True)"
   ]
  },
  {
   "cell_type": "code",
   "execution_count": 21,
   "metadata": {},
   "outputs": [
    {
     "ename": "AttributeError",
     "evalue": "'function' object has no attribute 'fs'",
     "output_type": "error",
     "traceback": [
      "\u001b[1;31m---------------------------------------------------------------------------\u001b[0m",
      "\u001b[1;31mAttributeError\u001b[0m                            Traceback (most recent call last)",
      "Cell \u001b[1;32mIn[21], line 6\u001b[0m\n\u001b[0;32m      3\u001b[0m num_classes \u001b[38;5;241m=\u001b[39m \u001b[38;5;28mlen\u001b[39m(train_df[\u001b[38;5;124m'\u001b[39m\u001b[38;5;124mcategory_id\u001b[39m\u001b[38;5;124m'\u001b[39m]\u001b[38;5;241m.\u001b[39munique())\n\u001b[0;32m      5\u001b[0m \u001b[38;5;66;03m# Create a model\u001b[39;00m\n\u001b[1;32m----> 6\u001b[0m model \u001b[38;5;241m=\u001b[39m\u001b[43mvision_learner\u001b[49m\u001b[43m(\u001b[49m\u001b[43mdataloader\u001b[49m\u001b[43m,\u001b[49m\u001b[43m \u001b[49m\u001b[43mresnet50\u001b[49m\u001b[43m,\u001b[49m\u001b[43m \u001b[49m\u001b[43mn_out\u001b[49m\u001b[38;5;241;43m=\u001b[39;49m\u001b[43mnum_classes\u001b[49m\u001b[43m)\u001b[49m\n",
      "File \u001b[1;32mc:\\Users\\mw50000150\\AppData\\Local\\anaconda3\\lib\\site-packages\\fastai\\vision\\learner.py:235\u001b[0m, in \u001b[0;36mvision_learner\u001b[1;34m(dls, arch, normalize, n_out, pretrained, weights, loss_func, opt_func, lr, splitter, cbs, metrics, path, model_dir, wd, wd_bn_bias, train_bn, moms, cut, init, custom_head, concat_pool, pool, lin_ftrs, ps, first_bn, bn_final, lin_first, y_range, **kwargs)\u001b[0m\n\u001b[0;32m    233\u001b[0m     \u001b[38;5;28;01mif\u001b[39;00m normalize: _timm_norm(dls, cfg, pretrained, n_in)\n\u001b[0;32m    234\u001b[0m \u001b[38;5;28;01melse\u001b[39;00m:\n\u001b[1;32m--> 235\u001b[0m     \u001b[38;5;28;01mif\u001b[39;00m normalize: \u001b[43m_add_norm\u001b[49m\u001b[43m(\u001b[49m\u001b[43mdls\u001b[49m\u001b[43m,\u001b[49m\u001b[43m \u001b[49m\u001b[43mmeta\u001b[49m\u001b[43m,\u001b[49m\u001b[43m \u001b[49m\u001b[43mpretrained\u001b[49m\u001b[43m,\u001b[49m\u001b[43m \u001b[49m\u001b[43mn_in\u001b[49m\u001b[43m)\u001b[49m\n\u001b[0;32m    236\u001b[0m     model \u001b[38;5;241m=\u001b[39m create_vision_model(arch, n_out, pretrained\u001b[38;5;241m=\u001b[39mpretrained, weights\u001b[38;5;241m=\u001b[39mweights, \u001b[38;5;241m*\u001b[39m\u001b[38;5;241m*\u001b[39mmodel_args)\n\u001b[0;32m    238\u001b[0m splitter \u001b[38;5;241m=\u001b[39m ifnone(splitter, meta[\u001b[38;5;124m'\u001b[39m\u001b[38;5;124msplit\u001b[39m\u001b[38;5;124m'\u001b[39m])\n",
      "File \u001b[1;32mc:\\Users\\mw50000150\\AppData\\Local\\anaconda3\\lib\\site-packages\\fastai\\vision\\learner.py:204\u001b[0m, in \u001b[0;36m_add_norm\u001b[1;34m(dls, meta, pretrained, n_in)\u001b[0m\n\u001b[0;32m    202\u001b[0m \u001b[38;5;28;01mif\u001b[39;00m stats \u001b[38;5;129;01mis\u001b[39;00m \u001b[38;5;28;01mNone\u001b[39;00m: \u001b[38;5;28;01mreturn\u001b[39;00m\n\u001b[0;32m    203\u001b[0m \u001b[38;5;28;01mif\u001b[39;00m n_in \u001b[38;5;241m!=\u001b[39m \u001b[38;5;28mlen\u001b[39m(stats[\u001b[38;5;241m0\u001b[39m]): \u001b[38;5;28;01mreturn\u001b[39;00m\n\u001b[1;32m--> 204\u001b[0m \u001b[38;5;28;01mif\u001b[39;00m \u001b[38;5;129;01mnot\u001b[39;00m \u001b[43mdls\u001b[49m\u001b[38;5;241;43m.\u001b[39;49m\u001b[43mafter_batch\u001b[49m\u001b[38;5;241;43m.\u001b[39;49m\u001b[43mfs\u001b[49m\u001b[38;5;241m.\u001b[39mfilter(risinstance(Normalize)):\n\u001b[0;32m    205\u001b[0m     dls\u001b[38;5;241m.\u001b[39madd_tfms([Normalize\u001b[38;5;241m.\u001b[39mfrom_stats(\u001b[38;5;241m*\u001b[39mstats)],\u001b[38;5;124m'\u001b[39m\u001b[38;5;124mafter_batch\u001b[39m\u001b[38;5;124m'\u001b[39m)\n",
      "\u001b[1;31mAttributeError\u001b[0m: 'function' object has no attribute 'fs'"
     ]
    }
   ],
   "source": [
    "# model = vision_learner(dataloader, resnet50,n_out=None)\n",
    "# Count the number of unique category IDs in the dataset\n",
    "num_classes = len(train_df['category_id'].unique())\n",
    "\n",
    "# Create a model\n",
    "model =vision_learner(dataloader, resnet50, n_out=num_classes)\n"
   ]
  },
  {
   "cell_type": "code",
   "execution_count": null,
   "metadata": {},
   "outputs": [],
   "source": []
  }
 ],
 "metadata": {
  "kernelspec": {
   "display_name": "base",
   "language": "python",
   "name": "python3"
  },
  "language_info": {
   "codemirror_mode": {
    "name": "ipython",
    "version": 3
   },
   "file_extension": ".py",
   "mimetype": "text/x-python",
   "name": "python",
   "nbconvert_exporter": "python",
   "pygments_lexer": "ipython3",
   "version": "3.10.9"
  }
 },
 "nbformat": 4,
 "nbformat_minor": 2
}
